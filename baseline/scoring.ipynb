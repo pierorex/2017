{
 "cells": [
  {
   "cell_type": "code",
   "execution_count": 235,
   "metadata": {},
   "outputs": [],
   "source": [
    "%matplotlib inline\n",
    "import pandas as pd"
   ]
  },
  {
   "cell_type": "code",
   "execution_count": 236,
   "metadata": {},
   "outputs": [
    {
     "data": {
      "text/plain": [
       "Index(['user_title', 'user_clevel', 'user_indus', 'user_disc', 'user_country',\n",
       "       'user_region', 'user_premium', 'user_numb_work_experiences',\n",
       "       'user_years_experience', 'user_years_experience_current',\n",
       "       'user_edu_degree', 'user_edu_fieldofstudies', 'user_wtcj', 'item_title',\n",
       "       'item_clevel', 'item_indus', 'item_disc', 'item_country', 'item_region',\n",
       "       'item_is_payed', 'item_employment', 'item_tags', 'item_created_at',\n",
       "       'interaction_type', 'interaction_created_at'],\n",
       "      dtype='object')"
      ]
     },
     "execution_count": 236,
     "metadata": {},
     "output_type": "execute_result"
    }
   ],
   "source": [
    "df = pd.read_csv('merged_dataset.csv')\n",
    "df.columns"
   ]
  },
  {
   "cell_type": "code",
   "execution_count": 58,
   "metadata": {},
   "outputs": [],
   "source": [
    "def premium_boost(x):\n",
    "    return 2 if (x['user_premium']) else 1\n",
    "\n",
    "def clicked(x):\n",
    "    return x['interaction_type'] == 1\n",
    "\n",
    "def bookmarked(x):\n",
    "    return x['interaction_type'] == 2\n",
    "\n",
    "def replied(x):\n",
    "    return x['interaction_type'] == 3\n",
    "\n",
    "def recruiter_interest(x):\n",
    "    return x['interaction_type'] == 5\n",
    "\n",
    "def deleted(x):\n",
    "    return x['interaction_type'] == 4\n",
    "\n",
    "def user_success(x):\n",
    "    return premium_boost(x) * (1 if clicked(x) else 0 + 5 if (bookmarked(x) or replied(x)) else 0 + 20 if recruiter_interest(x) else 0 - 10 if deleted else 0)\n",
    "\n",
    "def item_success(x):\n",
    "    return 5 if x[\"item_is_payed\"] else 0\n",
    "\n",
    "def score(x):\n",
    "    return item_success(x) + user_success(x)"
   ]
  },
  {
   "cell_type": "code",
   "execution_count": 59,
   "metadata": {},
   "outputs": [],
   "source": [
    "scores = df.apply(score, axis=1)"
   ]
  },
  {
   "cell_type": "code",
   "execution_count": 61,
   "metadata": {},
   "outputs": [
    {
     "name": "stdout",
     "output_type": "stream",
     "text": [
      "1.027483464177536\n",
      "45\n",
      "-20\n"
     ]
    },
    {
     "data": {
      "text/plain": [
       "<matplotlib.axes._subplots.AxesSubplot at 0x1158b6588>"
      ]
     },
     "execution_count": 61,
     "metadata": {},
     "output_type": "execute_result"
    },
    {
     "data": {
      "image/png": "[encoded data removed]",
      "text/plain": [
       "<matplotlib.figure.Figure at 0x1158dc5c0>"
      ]
     },
     "metadata": {},
     "output_type": "display_data"
    }
   ],
   "source": [
    "print(scores.mean())\n",
    "print(scores.max())\n",
    "print(scores.min())\n",
    "scores.plot.hist()"
   ]
  },
  {
   "cell_type": "code",
   "execution_count": 237,
   "metadata": {},
   "outputs": [],
   "source": [
    "df['user_country'] = df['user_country'].astype('category').cat.rename_categories([0,1,2,3])\n",
    "df['item_country'] = df['item_country'].astype('category').cat.rename_categories([0,1,2,3])"
   ]
  },
  {
   "cell_type": "code",
   "execution_count": 313,
   "metadata": {},
   "outputs": [
    {
     "data": {
      "text/plain": [
       "array(['item_clevel', 'item_country', 'item_disc', 'item_employment',\n",
       "       'item_indus', 'item_is_payed', 'item_region', 'user_clevel',\n",
       "       'user_country', 'user_disc', 'user_edu_degree', 'user_indus',\n",
       "       'user_numb_work_experiences', 'user_premium', 'user_region',\n",
       "       'user_wtcj', 'user_years_experience',\n",
       "       'user_years_experience_current'], dtype=object)"
      ]
     },
     "execution_count": 313,
     "metadata": {},
     "output_type": "execute_result"
    }
   ],
   "source": [
    "columns = np.setdiff1d(df.columns.values, ['user_title', 'item_title', 'user_edu_fieldofstudies', 'item_tags', 'nhot_user_title', 'nhot_item_title', 'nhot_user_edu_fieldofstudies', 'nhot_item_tags', 'interaction_type', 'item_created_at', 'interaction_created_at'])\n",
    "columns"
   ]
  },
  {
   "cell_type": "code",
   "execution_count": 314,
   "metadata": {},
   "outputs": [],
   "source": [
    "def n_hot_encode(df, column):\n",
    "    \n",
    "    # get unique elements from df[column] and put them into a set\n",
    "    _set = set()\n",
    "\n",
    "    for _list in df[column]:\n",
    "        for _elem in _list:\n",
    "            _set.add(_elem)\n",
    "\n",
    "    # for each row, compute it's encoded vector indicating with a \n",
    "    # 1 that it contains that element from the set and a 0 that it doesn't\n",
    "    _vectors = []\n",
    "    \n",
    "    for i in df.index:\n",
    "        _vectors.append([1 if _elem in df[column][i] else 0 for _elem in _set])\n",
    "\n",
    "    return _vectors\n",
    "\n",
    "def flatten_list(l):\n",
    "    return [item for sublist in l for item in sublist]\n",
    "\n",
    "def full_encoding(row):\n",
    "    regular_columns = [row[col] for col in columns]\n",
    "    nhot_columns = row['nhot_user_title'] + row['nhot_item_title'] + row['nhot_user_edu_fieldofstudies'] + row['nhot_item_tags']\n",
    "    #print(\"regular: {}\".format(regular_columns))\n",
    "    #print(\"nhot: {}\".format(nhot_columns))\n",
    "    return regular_columns + nhot_columns"
   ]
  },
  {
   "cell_type": "code",
   "execution_count": 240,
   "metadata": {},
   "outputs": [],
   "source": [
    "df['nhot_user_title'] = n_hot_encode(df, 'user_title')\n",
    "df['nhot_item_title'] = n_hot_encode(df, 'item_title')\n",
    "df['nhot_item_tags'] = n_hot_encode(df, 'item_tags')\n",
    "df['nhot_user_edu_fieldofstudies'] = n_hot_encode(df, 'user_edu_fieldofstudies')"
   ]
  },
  {
   "cell_type": "code",
   "execution_count": 315,
   "metadata": {},
   "outputs": [],
   "source": [
    "encoded_df = df.apply(full_encoding, axis=1)"
   ]
  },
  {
   "cell_type": "code",
   "execution_count": 318,
   "metadata": {},
   "outputs": [],
   "source": [
    "data = np.zeros(shape=(len(encoded_df), len(encoded_df[0])))\n",
    "\n",
    "# fill array with data taken from the df\n",
    "for i, row in enumerate(encoded_df):\n",
    "    data[i] = np.asarray(row)"
   ]
  },
  {
   "cell_type": "code",
   "execution_count": 363,
   "metadata": {},
   "outputs": [],
   "source": [
    "target = df['interaction_type'].values"
   ]
  },
  {
   "cell_type": "code",
   "execution_count": 364,
   "metadata": {},
   "outputs": [
    {
     "name": "stdout",
     "output_type": "stream",
     "text": [
      "(5982813, 73)\n",
      "[ 1.  2. 10.  1.  1.  0.  1.  0.  2.  0.  0. 20.  3.  0.  1.  1.  7.  5.\n",
      "  1.  1.  1.  1.  1.  1.  1.  1.  1.  1.  1.  1.  1.  0.  1.  1.  1.  1.\n",
      "  0.  1.  1.  1.  1.  1.  1.  1.  1.  1.  1.  0.  1.  0.  0.  0.  0.  0.\n",
      "  0.  0.  0.  0.  0.  1.  1.  1.  1.  1.  1.  1.  1.  1.  1.  1.  1.  1.\n",
      "  1.]\n"
     ]
    }
   ],
   "source": [
    "# save array to be used for training\n",
    "print(data.shape)\n",
    "print(data[0])\n",
    "\n",
    "save_x_file = open('data.npy', 'wb')\n",
    "np.save(save_x_file, data)\n",
    "\n",
    "save_y_file = open('target.npy', 'wb')\n",
    "np.save(save_y_file, target)"
   ]
  },
  {
   "cell_type": "code",
   "execution_count": 2,
   "metadata": {},
   "outputs": [],
   "source": [
    "# load array for training\n",
    "import numpy as np\n",
    "\n",
    "save_x_file = open('data.npy', 'rb')\n",
    "data = np.load(save_x_file)\n",
    "\n",
    "save_y_file = open('target.npy', 'rb')\n",
    "target = np.load(save_y_file)"
   ]
  },
  {
   "cell_type": "code",
   "execution_count": 3,
   "metadata": {},
   "outputs": [
    {
     "name": "stderr",
     "output_type": "stream",
     "text": [
      "/Users/piero/anaconda3/lib/python3.6/site-packages/h5py/__init__.py:36: FutureWarning: Conversion of the second argument of issubdtype from `float` to `np.floating` is deprecated. In future, it will be treated as `np.float64 == np.dtype(float).type`.\n",
      "  from ._conv import register_converters as _register_converters\n",
      "Using TensorFlow backend.\n"
     ]
    }
   ],
   "source": [
    "from keras.layers import Dense, Dropout\n",
    "from keras.models import Sequential\n",
    "from sklearn.model_selection import train_test_split"
   ]
  },
  {
   "cell_type": "code",
   "execution_count": 331,
   "metadata": {},
   "outputs": [
    {
     "name": "stdout",
     "output_type": "stream",
     "text": [
      "(5982813,)\n",
      "(0,)\n"
     ]
    }
   ],
   "source": [
    "# remove rows with nan values\n",
    "# NOT NECESSARY BECAUSE WE'RE NOT USING THE TIMESTAMPS WHICH CONTAINED nan VALUES\n",
    "\n",
    "#print(encoded_df.shape)\n",
    "#clean_df = encoded_df[np.isnan(data).any(axis=1)]\n",
    "#print(clean_df.shape)"
   ]
  },
  {
   "cell_type": "code",
   "execution_count": 4,
   "metadata": {},
   "outputs": [
    {
     "name": "stdout",
     "output_type": "stream",
     "text": [
      "[1 2 3 4 5]\n",
      "[(1, 4931649), (2, 4931649), (3, 4931649), (4, 4931649), (5, 4931649)]\n"
     ]
    }
   ],
   "source": [
    "# resample the data to get more balanced classes\n",
    "from imblearn.under_sampling import RandomUnderSampler\n",
    "from imblearn.over_sampling import RandomOverSampler\n",
    "from collections import Counter\n",
    "\n",
    "resampler = RandomOverSampler(random_state=0)\n",
    "print(np.unique(target))\n",
    "\n",
    "x_resampled, y_resampled = resampler.fit_sample(data, target)\n",
    "print(sorted(Counter(y_resampled).items()))"
   ]
  },
  {
   "cell_type": "code",
   "execution_count": 5,
   "metadata": {},
   "outputs": [],
   "source": [
    "from keras.utils import to_categorical\n",
    "\n",
    "y_resampled = to_categorical(y_resampled)"
   ]
  },
  {
   "cell_type": "code",
   "execution_count": 6,
   "metadata": {},
   "outputs": [],
   "source": [
    "x_train, x_test, y_train, y_test = train_test_split(\n",
    "    x_resampled, \n",
    "    y_resampled, \n",
    "    test_size=0.2\n",
    ")"
   ]
  },
  {
   "cell_type": "code",
   "execution_count": 7,
   "metadata": {},
   "outputs": [],
   "source": [
    "input_dim = x_resampled.shape[1]\n",
    "model = Sequential()\n",
    "\n",
    "model.add(Dense(128, activation='relu', input_dim=input_dim))\n",
    "model.add(Dropout(0.25))\n",
    "model.add(Dense(64, activation='relu'))\n",
    "model.add(Dropout(0.5))\n",
    "model.add(Dense(y_resampled.shape[1], activation='softmax'))\n",
    "\n",
    "model.compile(loss='categorical_crossentropy',\n",
    "              optimizer='adam',\n",
    "              metrics=['acc'])"
   ]
  },
  {
   "cell_type": "code",
   "execution_count": null,
   "metadata": {},
   "outputs": [],
   "source": [
    "# add a callback to stop if we start overfitting\n",
    "\n",
    "from keras.callbacks import EarlyStopping\n",
    "callbacks = [EarlyStopping(monitor='val_loss', min_delta=0.00001, patience=1, verbose=0, mode='auto')]"
   ]
  },
  {
   "cell_type": "code",
   "execution_count": null,
   "metadata": {},
   "outputs": [
    {
     "name": "stdout",
     "output_type": "stream",
     "text": [
      "Train on 19726596 samples, validate on 4931649 samples\n",
      "Epoch 1/20\n",
      "19726596/19726596 [==============================] - 762s 39us/step - loss: 1.0771 - acc: 0.5655 - val_loss: 0.9198 - val_acc: 0.6286\n",
      "Epoch 2/20\n",
      "19726596/19726596 [==============================] - 675s 34us/step - loss: 1.0141 - acc: 0.5901 - val_loss: 0.8986 - val_acc: 0.6333\n",
      "Epoch 3/20\n",
      "    9088/19726596 [..............................] - ETA: 1:57:38 - loss: 1.0093 - acc: 0.5938"
     ]
    }
   ],
   "source": [
    "history = model.fit(\n",
    "    x_train, \n",
    "    y_train, \n",
    "    validation_data=(x_test, y_test), \n",
    "    epochs=20, \n",
    "    batch_size=128,\n",
    "    callbacks=callbacks)"
   ]
  },
  {
   "cell_type": "code",
   "execution_count": null,
   "metadata": {},
   "outputs": [],
   "source": [
    "import matplotlib.pyplot as plt\n",
    "\n",
    "history_dict = history.history\n",
    "loss = history_dict['loss']\n",
    "val_loss = history_dict['val_loss']\n",
    "acc = history_dict['acc']\n",
    "val_acc = history_dict['val_acc']\n",
    "epochs = range(1, len(loss) + 1)\n",
    "\n",
    "plt.plot(epochs, loss, label='training loss')\n",
    "plt.plot(epochs, val_loss, label='validation loss')\n",
    "plt.plot(epochs, acc, label='training acc')\n",
    "plt.plot(epochs, val_acc, label='validation acc')\n",
    "plt.legend()\n",
    "plt.show()"
   ]
  },
  {
   "cell_type": "code",
   "execution_count": null,
   "metadata": {},
   "outputs": [],
   "source": [
    "#sample = np.expand_dims(data[0], axis=0)  # predict one instance\n",
    "print(model.predict(x_test[:2]))  # predict some instances"
   ]
  },
  {
   "cell_type": "code",
   "execution_count": null,
   "metadata": {},
   "outputs": [],
   "source": [
    "arr = model.predict(x_test[1:2])[0]\n",
    "print(arr.max(), np.argmax(arr), arr.min(), np.argmin(arr))"
   ]
  },
  {
   "cell_type": "code",
   "execution_count": null,
   "metadata": {},
   "outputs": [],
   "source": [
    "predictions = model.predict(x_test)"
   ]
  },
  {
   "cell_type": "code",
   "execution_count": null,
   "metadata": {},
   "outputs": [],
   "source": [
    "np.unique(predictions, axis=0).shape"
   ]
  },
  {
   "cell_type": "code",
   "execution_count": null,
   "metadata": {},
   "outputs": [],
   "source": []
  }
 ],
 "metadata": {
  "kernelspec": {
   "display_name": "Python 3",
   "language": "python",
   "name": "python3"
  },
  "language_info": {
   "codemirror_mode": {
    "name": "ipython",
    "version": 3
   },
   "file_extension": ".py",
   "mimetype": "text/x-python",
   "name": "python",
   "nbconvert_exporter": "python",
   "pygments_lexer": "ipython3",
   "version": "3.6.4"
  }
 },
 "nbformat": 4,
 "nbformat_minor": 2
}
