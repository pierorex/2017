{
 "cells": [
  {
   "cell_type": "code",
   "execution_count": 1,
   "metadata": {},
   "outputs": [],
   "source": [
    "import numpy as np"
   ]
  },
  {
   "cell_type": "code",
   "execution_count": 2,
   "metadata": {},
   "outputs": [
    {
     "name": "stderr",
     "output_type": "stream",
     "text": [
      "/Users/piero/anaconda3/lib/python3.6/site-packages/h5py/__init__.py:36: FutureWarning: Conversion of the second argument of issubdtype from `float` to `np.floating` is deprecated. In future, it will be treated as `np.float64 == np.dtype(float).type`.\n",
      "  from ._conv import register_converters as _register_converters\n",
      "Using TensorFlow backend.\n"
     ]
    },
    {
     "name": "stdout",
     "output_type": "stream",
     "text": [
      "Downloading data from https://www.cs.toronto.edu/~kriz/cifar-10-python.tar.gz\n",
      "170500096/170498071 [==============================] - 122s 1us/step\n"
     ]
    }
   ],
   "source": [
    "from keras.datasets import cifar10\n",
    "\n",
    "(x_train, y_train), (x_test, y_test) = cifar10.load_data()"
   ]
  },
  {
   "cell_type": "code",
   "execution_count": 24,
   "metadata": {},
   "outputs": [
    {
     "name": "stdout",
     "output_type": "stream",
     "text": [
      "(50000, 32, 32, 3)\n",
      "(10000, 32, 32, 3)\n",
      "(50000, 48, 48, 3)\n",
      "(10000, 48, 48, 3)\n"
     ]
    }
   ],
   "source": [
    "import cv2\n",
    "\n",
    "print(x_train.shape)\n",
    "print(x_test.shape)\n",
    "\n",
    "x_train_resized = np.array([cv2.resize(sample, dsize=(48, 48), interpolation=cv2.INTER_CUBIC) for sample in x_train])\n",
    "x_test_resized = np.array([cv2.resize(sample, dsize=(48, 48), interpolation=cv2.INTER_CUBIC) for sample in x_test])\n",
    "\n",
    "print(x_train_resized.shape)\n",
    "print(x_test_resized.shape)"
   ]
  },
  {
   "cell_type": "code",
   "execution_count": 51,
   "metadata": {},
   "outputs": [
    {
     "name": "stdout",
     "output_type": "stream",
     "text": [
      "layers in pre-trained model: 22\n",
      "_________________________________________________________________\n",
      "Layer (type)                 Output Shape              Param #   \n",
      "=================================================================\n",
      "input_10 (InputLayer)        (None, 48, 48, 3)         0         \n",
      "_________________________________________________________________\n",
      "block1_conv1 (Conv2D)        (None, 48, 48, 64)        1792      \n",
      "_________________________________________________________________\n",
      "block1_conv2 (Conv2D)        (None, 48, 48, 64)        36928     \n",
      "_________________________________________________________________\n",
      "block1_pool (MaxPooling2D)   (None, 24, 24, 64)        0         \n",
      "_________________________________________________________________\n",
      "block2_conv1 (Conv2D)        (None, 24, 24, 128)       73856     \n",
      "_________________________________________________________________\n",
      "block2_conv2 (Conv2D)        (None, 24, 24, 128)       147584    \n",
      "_________________________________________________________________\n",
      "block2_pool (MaxPooling2D)   (None, 12, 12, 128)       0         \n",
      "_________________________________________________________________\n",
      "block3_conv1 (Conv2D)        (None, 12, 12, 256)       295168    \n",
      "_________________________________________________________________\n",
      "block3_conv2 (Conv2D)        (None, 12, 12, 256)       590080    \n",
      "_________________________________________________________________\n",
      "block3_conv3 (Conv2D)        (None, 12, 12, 256)       590080    \n",
      "_________________________________________________________________\n",
      "block3_conv4 (Conv2D)        (None, 12, 12, 256)       590080    \n",
      "_________________________________________________________________\n",
      "block3_pool (MaxPooling2D)   (None, 6, 6, 256)         0         \n",
      "_________________________________________________________________\n",
      "block4_conv1 (Conv2D)        (None, 6, 6, 512)         1180160   \n",
      "_________________________________________________________________\n",
      "block4_conv2 (Conv2D)        (None, 6, 6, 512)         2359808   \n",
      "_________________________________________________________________\n",
      "block4_conv3 (Conv2D)        (None, 6, 6, 512)         2359808   \n",
      "_________________________________________________________________\n",
      "block4_conv4 (Conv2D)        (None, 6, 6, 512)         2359808   \n",
      "_________________________________________________________________\n",
      "block4_pool (MaxPooling2D)   (None, 3, 3, 512)         0         \n",
      "_________________________________________________________________\n",
      "block5_conv1 (Conv2D)        (None, 3, 3, 512)         2359808   \n",
      "_________________________________________________________________\n",
      "block5_conv2 (Conv2D)        (None, 3, 3, 512)         2359808   \n",
      "_________________________________________________________________\n",
      "block5_conv3 (Conv2D)        (None, 3, 3, 512)         2359808   \n",
      "_________________________________________________________________\n",
      "block5_conv4 (Conv2D)        (None, 3, 3, 512)         2359808   \n",
      "_________________________________________________________________\n",
      "block5_pool (MaxPooling2D)   (None, 1, 1, 512)         0         \n",
      "=================================================================\n",
      "Total params: 20,024,384\n",
      "Trainable params: 0\n",
      "Non-trainable params: 20,024,384\n",
      "_________________________________________________________________\n"
     ]
    },
    {
     "name": "stderr",
     "output_type": "stream",
     "text": [
      "/Users/piero/anaconda3/lib/python3.6/site-packages/ipykernel_launcher.py:31: UserWarning: Update your `Model` call to the Keras 2 API: `Model(inputs=Tensor(\"in..., outputs=Tensor(\"de...)`\n"
     ]
    }
   ],
   "source": [
    "from keras import applications\n",
    "from keras.preprocessing.image import ImageDataGenerator\n",
    "from keras import optimizers\n",
    "from keras.models import Sequential, Model \n",
    "from keras.layers import Dropout, Flatten, Dense, GlobalAveragePooling2D\n",
    "from keras import backend as k \n",
    "from keras.utils import to_categorical\n",
    "from keras.callbacks import ModelCheckpoint, LearningRateScheduler, TensorBoard, EarlyStopping\n",
    "\n",
    "model = applications.VGG19(weights = \"imagenet\", include_top=False, input_shape=x_train_resized[0].shape)\n",
    "\n",
    "print('layers in pre-trained model: {}'.format(len(model.layers)))\n",
    "\n",
    "# Freeze the layers which you don't want to train. Here I am freezing the first 5 layers.\n",
    "for layer in model.layers:\n",
    "    layer.trainable = False\n",
    "    \n",
    "model.summary()\n",
    "\n",
    "nb_classes = len(np.unique(y_train))\n",
    "    \n",
    "# Adding custom Layers \n",
    "x = model.output\n",
    "x = Flatten()(x)\n",
    "x = Dense(1024, activation=\"relu\")(x)\n",
    "x = Dropout(0.5)(x)\n",
    "x = Dense(1024, activation=\"relu\")(x)\n",
    "output_layer = Dense(nb_classes, activation=\"softmax\")(x)\n",
    "\n",
    "# creating the final model \n",
    "model_final = Model(input=model.input, output=output_layer)\n",
    "\n",
    "# compile the model \n",
    "model_final.compile(\n",
    "    loss=\"categorical_crossentropy\", \n",
    "    optimizer=optimizers.SGD(lr=0.0001, momentum=0.9), \n",
    "    metrics=[\"accuracy\"]\n",
    ")"
   ]
  },
  {
   "cell_type": "code",
   "execution_count": 52,
   "metadata": {},
   "outputs": [
    {
     "name": "stdout",
     "output_type": "stream",
     "text": [
      "Train on 42500 samples, validate on 7500 samples\n",
      "Epoch 1/10\n",
      "42500/42500 [==============================] - 1260s 30ms/step - loss: 2.8522 - acc: 0.4453 - val_loss: 1.2614 - val_acc: 0.5709\n",
      "\n",
      "Epoch 00001: val_acc improved from -inf to 0.57093, saving model to cifar10_vgg19.h5\n",
      "Epoch 2/10\n",
      "42500/42500 [==============================] - 1256s 30ms/step - loss: 1.4915 - acc: 0.5217 - val_loss: 1.1804 - val_acc: 0.5959\n",
      "\n",
      "Epoch 00002: val_acc improved from 0.57093 to 0.59587, saving model to cifar10_vgg19.h5\n",
      "Epoch 3/10\n",
      "42500/42500 [==============================] - 1206s 28ms/step - loss: 1.3132 - acc: 0.5596 - val_loss: 1.1442 - val_acc: 0.6071\n",
      "\n",
      "Epoch 00003: val_acc improved from 0.59587 to 0.60707, saving model to cifar10_vgg19.h5\n",
      "Epoch 4/10\n",
      "42500/42500 [==============================] - 1194s 28ms/step - loss: 1.2244 - acc: 0.5843 - val_loss: 1.1244 - val_acc: 0.6101\n",
      "\n",
      "Epoch 00004: val_acc improved from 0.60707 to 0.61013, saving model to cifar10_vgg19.h5\n",
      "Epoch 5/10\n",
      "42500/42500 [==============================] - 1224s 29ms/step - loss: 1.1623 - acc: 0.6034 - val_loss: 1.0989 - val_acc: 0.6220\n",
      "\n",
      "Epoch 00005: val_acc improved from 0.61013 to 0.62200, saving model to cifar10_vgg19.h5\n",
      "Epoch 6/10\n",
      "42500/42500 [==============================] - 1215s 29ms/step - loss: 1.1183 - acc: 0.6165 - val_loss: 1.0794 - val_acc: 0.6280\n",
      "\n",
      "Epoch 00006: val_acc improved from 0.62200 to 0.62800, saving model to cifar10_vgg19.h5\n",
      "Epoch 7/10\n",
      "42500/42500 [==============================] - 1243s 29ms/step - loss: 1.0834 - acc: 0.6257 - val_loss: 1.0732 - val_acc: 0.6317\n",
      "\n",
      "Epoch 00007: val_acc improved from 0.62800 to 0.63173, saving model to cifar10_vgg19.h5\n",
      "Epoch 8/10\n",
      "42500/42500 [==============================] - 1205s 28ms/step - loss: 1.0528 - acc: 0.6348 - val_loss: 1.0563 - val_acc: 0.6348\n",
      "\n",
      "Epoch 00008: val_acc improved from 0.63173 to 0.63480, saving model to cifar10_vgg19.h5\n",
      "Epoch 9/10\n",
      "42500/42500 [==============================] - 1239s 29ms/step - loss: 1.0271 - acc: 0.6435 - val_loss: 1.0487 - val_acc: 0.6372\n",
      "\n",
      "Epoch 00009: val_acc improved from 0.63480 to 0.63720, saving model to cifar10_vgg19.h5\n",
      "Epoch 10/10\n",
      "42500/42500 [==============================] - 1233s 29ms/step - loss: 0.9989 - acc: 0.6539 - val_loss: 1.0435 - val_acc: 0.6368\n",
      "\n",
      "Epoch 00010: val_acc did not improve\n"
     ]
    }
   ],
   "source": [
    "# Initiate the train and test generators with data Augumentation \n",
    "#train_datagen = ImageDataGenerator(\n",
    "#rescale = 1./255,\n",
    "#horizontal_flip = True,\n",
    "#fill_mode = \"nearest\",\n",
    "#zoom_range = 0.3,\n",
    "##width_shift_range = 0.3,\n",
    "#height_shift_range=0.3,\n",
    "#rotation_range=30)\n",
    "\n",
    "#test_datagen = ImageDataGenerator(\n",
    "#rescale = 1./255,\n",
    "#horizontal_flip = True,\n",
    "#fill_mode = \"nearest\",\n",
    "#zoom_range = 0.3,\n",
    "#width_shift_range = 0.3,\n",
    "#height_shift_range=0.3,\n",
    "#rotation_range=30)\n",
    "\n",
    "#train_generator = train_datagen.flow_from_directory(\n",
    "#train_data_dir,\n",
    "#target_size = (img_height, img_width),\n",
    "#batch_size = batch_size, \n",
    "#class_mode = \"categorical\")\n",
    "\n",
    "#validation_generator = test_datagen.flow_from_directory(\n",
    "#validation_data_dir,\n",
    "#target_size = (img_height, img_width),\n",
    "#class_mode = \"categorical\")\n",
    "\n",
    "# Save the model according to the conditions  \n",
    "checkpoint = ModelCheckpoint(\"cifar10_vgg19.h5\", monitor='val_acc', verbose=1, save_best_only=True, save_weights_only=False, mode='auto', period=1)\n",
    "early = EarlyStopping(monitor='val_loss', min_delta=0.000001, patience=3, verbose=1, mode='auto')\n",
    "nb_train_samples = int(len(x_train) * 0.85)\n",
    "\n",
    "y_train_categorical = to_categorical(y_train)\n",
    "y_test_categorical = to_categorical(y_test)\n",
    "\n",
    "x_val = x_train_resized[nb_train_samples:]\n",
    "y_val = y_train_categorical[nb_train_samples:]\n",
    "\n",
    "# Train the model \n",
    "history = model_final.fit(\n",
    "    x_train_resized[:nb_train_samples],\n",
    "    y_train_categorical[:nb_train_samples],\n",
    "    validation_data=(x_val, y_val),\n",
    "    batch_size=16,\n",
    "    epochs=10,\n",
    "    callbacks=[checkpoint, early]\n",
    ")"
   ]
  },
  {
   "cell_type": "code",
   "execution_count": 53,
   "metadata": {},
   "outputs": [
    {
     "name": "stdout",
     "output_type": "stream",
     "text": [
      "10000/10000 [==============================] - 227s 23ms/step\n"
     ]
    },
    {
     "data": {
      "text/plain": [
       "[1.0566693477630615, 0.6413]"
      ]
     },
     "execution_count": 53,
     "metadata": {},
     "output_type": "execute_result"
    }
   ],
   "source": [
    "model_final.evaluate(x_test_resized, y_test_categorical)"
   ]
  },
  {
   "cell_type": "code",
   "execution_count": 62,
   "metadata": {},
   "outputs": [
    {
     "data": {
      "image/png": "[encoded data removed]",
      "text/plain": [
       "<matplotlib.figure.Figure at 0x187c3d8588>"
      ]
     },
     "metadata": {},
     "output_type": "display_data"
    }
   ],
   "source": [
    "import matplotlib.pyplot as plt\n",
    "\n",
    "history_dict = history.history\n",
    "loss = history_dict['loss']\n",
    "val_loss = history_dict['val_loss']\n",
    "acc = history_dict['acc']\n",
    "val_acc = history_dict['val_acc']\n",
    "epochs = range(1, len(loss) + 1)\n",
    "\n",
    "plt.plot(epochs, loss, label='training loss')\n",
    "plt.plot(epochs, val_loss, label='validation loss')\n",
    "plt.plot(epochs, acc, label='training acc')\n",
    "plt.plot(epochs, val_acc, label='validation acc')\n",
    "plt.legend()\n",
    "plt.show()"
   ]
  },
  {
   "cell_type": "code",
   "execution_count": 64,
   "metadata": {},
   "outputs": [
    {
     "data": {
      "image/png": "[encoded data removed]",
      "text/plain": [
       "<matplotlib.figure.Figure at 0x187c57d358>"
      ]
     },
     "metadata": {},
     "output_type": "display_data"
    }
   ],
   "source": [
    "# remove first epochs to show fine-grained measures\n",
    "keep_from = 2\n",
    "loss, val_loss, acc, val_acc = history_dict['loss'][keep_from:], history_dict['val_loss'][keep_from:], history_dict['acc'][keep_from:], history_dict['val_acc'][keep_from:]\n",
    "epochs = range(1, len(loss) + 1)\n",
    "plt.plot(epochs, loss, label='training loss')\n",
    "plt.plot(epochs, val_loss, label='validation loss')\n",
    "plt.plot(epochs, acc, label='training acc')\n",
    "plt.plot(epochs, val_acc, label='validation acc')\n",
    "plt.legend()\n",
    "plt.show()"
   ]
  },
  {
   "cell_type": "code",
   "execution_count": 65,
   "metadata": {},
   "outputs": [
    {
     "data": {
      "text/plain": [
       "(50000, 32, 32, 3)"
      ]
     },
     "execution_count": 65,
     "metadata": {},
     "output_type": "execute_result"
    }
   ],
   "source": [
    "x_train.shape"
   ]
  },
  {
   "cell_type": "code",
   "execution_count": null,
   "metadata": {},
   "outputs": [],
   "source": []
  }
 ],
 "metadata": {
  "kernelspec": {
   "display_name": "Python 3",
   "language": "python",
   "name": "python3"
  },
  "language_info": {
   "codemirror_mode": {
    "name": "ipython",
    "version": 3
   },
   "file_extension": ".py",
   "mimetype": "text/x-python",
   "name": "python",
   "nbconvert_exporter": "python",
   "pygments_lexer": "ipython3",
   "version": "3.6.4"
  }
 },
 "nbformat": 4,
 "nbformat_minor": 2
}
